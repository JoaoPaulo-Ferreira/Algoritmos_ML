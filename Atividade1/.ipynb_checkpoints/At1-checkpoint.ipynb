{
 "cells": [
  {
   "cell_type": "code",
   "execution_count": 1,
   "metadata": {},
   "outputs": [],
   "source": [
    "from sklearn.model_selection import train_test_split\n",
    "import numpy as np\n",
    "import pandas as pd\n",
    "import matplotlib.pyplot as plt\n"
   ]
  },
  {
   "cell_type": "code",
   "execution_count": 2,
   "metadata": {},
   "outputs": [],
   "source": [
    "data = np.loadtxt(\"housing.data\", dtype=np.float)\n",
    "\n",
    "X = data[:,12]\n",
    "y = data[:,13]\n",
    "X_train, X_test, y_train, y_test = train_test_split(X, y, test_size=0.2)\n",
    "\n"
   ]
  },
  {
   "cell_type": "code",
   "execution_count": 184,
   "metadata": {},
   "outputs": [],
   "source": [
    "def MSE(Y_true, Y_predict):\n",
    "    n = len(Y_true)\n",
    "    return np.sum(np.square(Y_true - Y_predict))/n\n",
    "    "
   ]
  },
  {
   "cell_type": "code",
   "execution_count": 181,
   "metadata": {},
   "outputs": [],
   "source": [
    "def R2(Y_true, Y_predict):\n",
    "    sse = np.sum(np.square(Y_true - Y_predict))\n",
    "    sst = np.sum(np.square(Y_true - np.mean(Y_true)))\n",
    "    return 1 - sse/sst"
   ]
  },
  {
   "cell_type": "code",
   "execution_count": null,
   "metadata": {},
   "outputs": [],
   "source": [
    "\n",
    "class RLU_analitico:\n",
    "\n",
    "    def __init__(self):\n",
    "        self.beta0=0.0\n",
    "        self.beta1=0.0\n",
    "        \n",
    "    def fit(self, X, y):\n",
    "        self.x_barra = np.mean(X)\n",
    "        self.y_barra = np.mean(y)\n",
    "        \n",
    "        num = np.sum((X-self.x_barra)*(y-self.y_barra))\n",
    "        \n",
    "        den = np.sum((X-self.x_barra)**2)\n",
    "        \n",
    "        self.beta1 = num/den\n",
    "        self.beta0 = self.y_barra - self.beta1*self.x_barra\n",
    "        \n",
    "\n",
    "    def predict(self, X):\n",
    "        return self.beta1 * X + self.beta0\n",
    "    "
   ]
  },
  {
   "cell_type": "code",
   "execution_count": 4,
   "metadata": {},
   "outputs": [
    {
     "name": "stdout",
     "output_type": "stream",
     "text": [
      "-0.9313607794296749\n",
      "34.28102100720355\n"
     ]
    },
    {
     "data": {
      "image/png": "[encoded data removed]",
      "text/plain": [
       "<Figure size 432x288 with 1 Axes>"
      ]
     },
     "metadata": {
      "needs_background": "light"
     },
     "output_type": "display_data"
    }
   ],
   "source": [
    "lr = RLU_analitico()\n",
    "lr.fit(X_train, y_train)\n",
    "\n",
    "y_predicted = lr.predict(X_test)\n",
    "\n",
    "plt.plot(X_test, y_test, 'ro', label='Real')\n",
    "plt.plot(X_test, y_predicted, label=\"predicted\")\n",
    "plt.show()"
   ]
  },
  {
   "cell_type": "markdown",
   "metadata": {},
   "source": [
    "# Regressao Linear Univariada Analítica"
   ]
  },
  {
   "cell_type": "markdown",
   "metadata": {},
   "source": [
    "### MSE e R2"
   ]
  },
  {
   "cell_type": "code",
   "execution_count": 187,
   "metadata": {},
   "outputs": [
    {
     "name": "stdout",
     "output_type": "stream",
     "text": [
      "0.9080152354991193\n",
      "0.22911239008250395\n"
     ]
    }
   ],
   "source": [
    "print(MSE(y_test, y_predicted))\n",
    "print(R2(y_test, y_predicted))"
   ]
  },
  {
   "cell_type": "markdown",
   "metadata": {},
   "source": [
    "### COEFICIENTES"
   ]
  },
  {
   "cell_type": "code",
   "execution_count": 189,
   "metadata": {},
   "outputs": [
    {
     "name": "stdout",
     "output_type": "stream",
     "text": [
      "34.28102100720355\n",
      "-0.9313607794296749\n"
     ]
    }
   ],
   "source": [
    "print(lr.beta0)\n",
    "print(lr.beta1)"
   ]
  },
  {
   "cell_type": "code",
   "execution_count": 5,
   "metadata": {},
   "outputs": [],
   "source": [
    "# REGRESSAO LINEAR UNIVARIADA GRADIENTE DESCENDENTE\n",
    "class RLU_grad_desc:\n",
    "\n",
    "    def __init__(self):\n",
    "        self.w0 = 0.0\n",
    "        self.w1 = 0.0\n",
    "\n",
    "        \n",
    "    def fit(self, X, y, alfa, epocas):\n",
    "        n = len(X)\n",
    "        \n",
    "        \n",
    "        for i in range(0, epocas):\n",
    "            err = np.sum(y - X*self.w1 - self.w0) \n",
    "            err2 = np.sum((y - X*self.w1 - self.w0) * X)\n",
    "            self.w0 += alfa * 1/n * err\n",
    "            self.w1 += alfa * 1/n * err2\n",
    "\n",
    "    def predict(self, X):\n",
    "        return self.w1 * X + self.w0\n"
   ]
  },
  {
   "cell_type": "code",
   "execution_count": 6,
   "metadata": {},
   "outputs": [
    {
     "name": "stdout",
     "output_type": "stream",
     "text": [
      "-0.7444008842898827\n",
      "31.147282791608053\n"
     ]
    },
    {
     "data": {
      "image/png": "[encoded data removed]",
      "text/plain": [
       "<Figure size 432x288 with 1 Axes>"
      ]
     },
     "metadata": {
      "needs_background": "light"
     },
     "output_type": "display_data"
    }
   ],
   "source": [
    "\n",
    "lrg = RLU_grad_desc()\n",
    "lrg.fit(X_train, y_train, 0.001, 10000)\n",
    "\n",
    "\n",
    "y_predicted = lrg.predict(X_test)\n",
    "\n",
    "plt.plot(X_test, y_test, 'ro', label='Real')\n",
    "plt.plot(X_test, y_predicted, label=\"predicted\")\n",
    "plt.show()"
   ]
  },
  {
   "cell_type": "markdown",
   "metadata": {},
   "source": [
    "# Regressao Linear Univariada Gradiente Descendente"
   ]
  },
  {
   "cell_type": "markdown",
   "metadata": {},
   "source": [
    "### MSE e R2"
   ]
  },
  {
   "cell_type": "code",
   "execution_count": 191,
   "metadata": {},
   "outputs": [
    {
     "name": "stdout",
     "output_type": "stream",
     "text": [
      "0.9080152354991193\n",
      "0.22911239008250395\n"
     ]
    }
   ],
   "source": [
    "print(MSE(y_test, y_predicted))\n",
    "print(R2(y_test, y_predicted))"
   ]
  },
  {
   "cell_type": "markdown",
   "metadata": {},
   "source": [
    "### COEFICIENTES\n"
   ]
  },
  {
   "cell_type": "code",
   "execution_count": 193,
   "metadata": {},
   "outputs": [
    {
     "name": "stdout",
     "output_type": "stream",
     "text": [
      "31.147282791608053\n",
      "-0.7444008842898827\n"
     ]
    }
   ],
   "source": [
    "print(lrg.w0)\n",
    "print(lrg.w1)"
   ]
  },
  {
   "cell_type": "code",
   "execution_count": 7,
   "metadata": {},
   "outputs": [],
   "source": [
    "# REGRESSAO LINEAR UNIVARIADA GRADIENTE DESCENDENTE ESTOCASTICO\n",
    "class RLU_grad_desc_sto:\n",
    "\n",
    "    def __init__(self):\n",
    "        self.w0 = 0.0\n",
    "        self.w1 = 0.0\n",
    "\n",
    "        \n",
    "    def fit(self, X, y, alfa, epocas):\n",
    "        n = len(X)\n",
    "        \n",
    "        \n",
    "        for i in range(0, epocas):\n",
    "            for j in range(0, n):\n",
    "                err = y[j] - X[j]*self.w1 - self.w0 \n",
    "                err2 = (y[j] - X[j]*self.w1 - self.w0) * X[j]\n",
    "                self.w0 += alfa * err\n",
    "                self.w1 += alfa * err2\n",
    "\n",
    "        \n",
    "        print(self.w1)\n",
    "        print(self.w0)\n",
    "    \n",
    "    def predict(self, X):\n",
    "        return self.w1 * X + self.w0\n"
   ]
  },
  {
   "cell_type": "code",
   "execution_count": 8,
   "metadata": {},
   "outputs": [
    {
     "name": "stdout",
     "output_type": "stream",
     "text": [
      "-0.976957880210708\n",
      "34.33075133228076\n"
     ]
    },
    {
     "data": {
      "image/png": "[encoded data removed]",
      "text/plain": [
       "<Figure size 432x288 with 1 Axes>"
      ]
     },
     "metadata": {
      "needs_background": "light"
     },
     "output_type": "display_data"
    }
   ],
   "source": [
    "lrgs = RLU_grad_desc_sto()\n",
    "lrgs.fit(X_train, y_train, 0.001, 10000)\n",
    "\n",
    "\n",
    "y_predicted = lrgs.predict(X_test)\n",
    "\n",
    "plt.plot(X_test, y_test, 'ro', label='Real')\n",
    "plt.plot(X_test, y_predicted, label=\"predicted\")\n",
    "plt.show()"
   ]
  },
  {
   "cell_type": "code",
   "execution_count": 15,
   "metadata": {},
   "outputs": [],
   "source": [
    "data = np.loadtxt(\"data_trab1/trab1_data.txt\", dtype=np.float)\n",
    "\n",
    "X = data[:, :5]\n",
    "y = data[:,5]\n",
    "X_train, X_test, y_train, y_test = train_test_split(X, y, test_size=0.2)\n",
    "\n",
    "# print (X_train.shape)"
   ]
  },
  {
   "cell_type": "code",
   "execution_count": 102,
   "metadata": {},
   "outputs": [],
   "source": [
    "class RLM_analitico:\n",
    "\n",
    "    def __init__(self):\n",
    "        self.betas=0\n",
    "        \n",
    "    def fit(self, X, y):\n",
    "        temp = X\n",
    "        l=X.shape[0]\n",
    "        c=X.shape[1]\n",
    "        \n",
    "        self.betas = np.zeros(c+1)\n",
    "        \n",
    "        X = np.ones((l, c+1))\n",
    "        X[:,1:] = temp\n",
    "        X_trans = np.transpose(X)\n",
    "        \n",
    "        p1 = np.linalg.inv(np.dot(X_trans, X)) # (X_tansp * X)^-1\n",
    "        p2 = np.dot(X_trans, y) # (X_trans * y)\n",
    "        \n",
    "        self.betas = np.dot(p1, p2)\n",
    "        \n",
    "    def predict(self, X):\n",
    "        y = np.zeros(X.shape[0])\n",
    "        for i in range(0, X.shape[0]):\n",
    "            y[i] = 1*self.betas[0] + np.sum( np.dot(X[i,:], self.betas[1:])) \n",
    "        return y\n",
    "    "
   ]
  },
  {
   "cell_type": "code",
   "execution_count": 103,
   "metadata": {},
   "outputs": [
    {
     "name": "stdout",
     "output_type": "stream",
     "text": [
      "10\n"
     ]
    },
    {
     "data": {
      "image/png": "[encoded data removed]",
      "text/plain": [
       "<Figure size 432x288 with 1 Axes>"
      ]
     },
     "metadata": {
      "needs_background": "light"
     },
     "output_type": "display_data"
    },
    {
     "data": {
      "image/png": "[encoded data removed]",
      "text/plain": [
       "<Figure size 432x288 with 1 Axes>"
      ]
     },
     "metadata": {
      "needs_background": "light"
     },
     "output_type": "display_data"
    },
    {
     "data": {
      "image/png": "[encoded data removed]",
      "text/plain": [
       "<Figure size 432x288 with 1 Axes>"
      ]
     },
     "metadata": {
      "needs_background": "light"
     },
     "output_type": "display_data"
    },
    {
     "data": {
      "image/png": "[encoded data removed]",
      "text/plain": [
       "<Figure size 432x288 with 1 Axes>"
      ]
     },
     "metadata": {
      "needs_background": "light"
     },
     "output_type": "display_data"
    },
    {
     "data": {
      "image/png": "[encoded data removed]",
      "text/plain": [
       "<Figure size 432x288 with 1 Axes>"
      ]
     },
     "metadata": {
      "needs_background": "light"
     },
     "output_type": "display_data"
    }
   ],
   "source": [
    "a = RLM_analitico()\n",
    "a.fit(X_train, y_train)\n",
    "\n",
    "\n",
    "y_predicted = a.predict(X_test)\n",
    "\n",
    "plt.plot(X_test[:,0], y_test, 'ro', label='Real')\n",
    "plt.plot(X_test[:,0], y_predicted, 'go', label=\"predicted\")\n",
    "plt.show()\n",
    "\n",
    "plt.plot(X_test[:,1], y_test, 'ro', label='Real')\n",
    "plt.plot(X_test[:,1], y_predicted, 'go', label=\"predicted\")\n",
    "plt.show()\n",
    "\n",
    "plt.plot(X_test[:,2], y_test, 'ro', label='Real')\n",
    "plt.plot(X_test[:,2], y_predicted, 'go', label=\"predicted\")\n",
    "plt.show()\n",
    "\n",
    "plt.plot(X_test[:,3], y_test, 'ro', label='Real')\n",
    "plt.plot(X_test[:,3], y_predicted, 'go', label=\"predicted\")\n",
    "plt.show()\n",
    "\n",
    "plt.plot(X_test[:,4], y_test, 'ro', label='Real')\n",
    "plt.plot(X_test[:,4], y_predicted, 'go', label=\"predicted\")\n",
    "plt.show()\n"
   ]
  },
  {
   "cell_type": "code",
   "execution_count": 173,
   "metadata": {},
   "outputs": [],
   "source": [
    "# REGRESSAO LINEAR MULTIVARIADA GRADIENTE DESCENDENTE\n",
    "class RLM_grad_desc:\n",
    "\n",
    "    def __init__(self):\n",
    "        self.w = 0\n",
    "        \n",
    "    def fit(self, X, y, alfa, epocas):\n",
    "        temp = X\n",
    "        l=X.shape[0]\n",
    "        c=X.shape[1]\n",
    "        \n",
    "        self.w = np.zeros(c+1)\n",
    "        w_temp = np.zeros(c+1)\n",
    "        \n",
    "        X = np.ones((l, c+1))\n",
    "        X[:,1:] = temp        \n",
    "        norm = (alfa * 1/l)\n",
    "        \n",
    "        for j in range(0, epocas):\n",
    "            for i in range(0, l):\n",
    "                temp = np.transpose(X[i,:])\n",
    "                err = np.sum(y[i] - np.dot(temp, self.w))\n",
    "                w_temp += np.dot(err, temp)\n",
    "            self.w += norm * w_temp\n",
    "\n",
    "    def predict(self, X):\n",
    "        y = np.zeros(X.shape[0])\n",
    "        for i in range(0, X.shape[0]):\n",
    "            y[i] = 1*self.w[0] + np.sum( np.dot(X[i,:], self.w[1:])) \n",
    "        return y\n"
   ]
  },
  {
   "cell_type": "code",
   "execution_count": 175,
   "metadata": {},
   "outputs": [
    {
     "data": {
      "image/png": "[encoded data removed]",
      "text/plain": [
       "<Figure size 432x288 with 1 Axes>"
      ]
     },
     "metadata": {
      "needs_background": "light"
     },
     "output_type": "display_data"
    },
    {
     "data": {
      "image/png": "[encoded data removed]",
      "text/plain": [
       "<Figure size 432x288 with 1 Axes>"
      ]
     },
     "metadata": {
      "needs_background": "light"
     },
     "output_type": "display_data"
    },
    {
     "data": {
      "image/png": "[encoded data removed]",
      "text/plain": [
       "<Figure size 432x288 with 1 Axes>"
      ]
     },
     "metadata": {
      "needs_background": "light"
     },
     "output_type": "display_data"
    },
    {
     "data": {
      "image/png": "[encoded data removed]",
      "text/plain": [
       "<Figure size 432x288 with 1 Axes>"
      ]
     },
     "metadata": {
      "needs_background": "light"
     },
     "output_type": "display_data"
    },
    {
     "data": {
      "image/png": "[encoded data removed]",
      "text/plain": [
       "<Figure size 432x288 with 1 Axes>"
      ]
     },
     "metadata": {
      "needs_background": "light"
     },
     "output_type": "display_data"
    }
   ],
   "source": [
    "a = RLM_grad_desc()\n",
    "a.fit(X_train, y_train, 0.001, 10000)\n",
    "\n",
    "\n",
    "y_predicted = a.predict(X_test)\n",
    "plt.plot(X_test[:,0], y_test, 'ro', label='Real')\n",
    "plt.plot(X_test[:,0], y_predicted, 'go', label=\"predicted\")\n",
    "plt.show()\n",
    "\n",
    "plt.plot(X_test[:,1], y_test, 'ro', label='Real')\n",
    "plt.plot(X_test[:,1], y_predicted, 'go', label=\"predicted\")\n",
    "plt.show()\n",
    "\n",
    "plt.plot(X_test[:,2], y_test, 'ro', label='Real')\n",
    "plt.plot(X_test[:,2], y_predicted, 'go', label=\"predicted\")\n",
    "plt.show()\n",
    "\n",
    "plt.plot(X_test[:,3], y_test, 'ro', label='Real')\n",
    "plt.plot(X_test[:,3], y_predicted, 'go', label=\"predicted\")\n",
    "plt.show()\n",
    "\n",
    "plt.plot(X_test[:,4], y_test, 'ro', label='Real')\n",
    "plt.plot(X_test[:,4], y_predicted, 'go', label=\"predicted\")\n",
    "plt.show()\n",
    "\n"
   ]
  },
  {
   "cell_type": "code",
   "execution_count": 177,
   "metadata": {},
   "outputs": [],
   "source": [
    "# REGRESSAO LINEAR MULTIVARIADA GRADIENTE DESCENDENTE ESTOCASTICO\n",
    "class RLM_grad_desc_sto:\n",
    "\n",
    "    def __init__(self):\n",
    "        self.w = 0.0\n",
    "\n",
    "        \n",
    "    def fit(self, X, y, alfa, epocas):\n",
    "        temp = X\n",
    "        l=X.shape[0]\n",
    "        c=X.shape[1]\n",
    "        \n",
    "        self.w = np.zeros(c+1)\n",
    "        \n",
    "        X = np.ones((l, c+1))\n",
    "        X[:,1:] = temp        \n",
    "        for j in range(0, epocas):\n",
    "            for i in range(0, l):\n",
    "                temp = np.transpose(X[i,:])\n",
    "                err = np.sum(y[i] - np.dot(temp, self.w))\n",
    "                self.w += alfa * np.dot(err, temp)\n",
    "        \n",
    "    def predict(self, X):\n",
    "        y = np.zeros(X.shape[0])\n",
    "        for i in range(0, X.shape[0]):\n",
    "            y[i] = 1*self.w[0] + np.sum( np.dot(X[i,:], self.w[1:])) \n",
    "        return y\n",
    "\n"
   ]
  },
  {
   "cell_type": "code",
   "execution_count": 178,
   "metadata": {},
   "outputs": [
    {
     "data": {
      "image/png": "[encoded data removed]",
      "text/plain": [
       "<Figure size 432x288 with 1 Axes>"
      ]
     },
     "metadata": {
      "needs_background": "light"
     },
     "output_type": "display_data"
    },
    {
     "data": {
      "image/png": "[encoded data removed]",
      "text/plain": [
       "<Figure size 432x288 with 1 Axes>"
      ]
     },
     "metadata": {
      "needs_background": "light"
     },
     "output_type": "display_data"
    },
    {
     "data": {
      "image/png": "[encoded data removed]",
      "text/plain": [
       "<Figure size 432x288 with 1 Axes>"
      ]
     },
     "metadata": {
      "needs_background": "light"
     },
     "output_type": "display_data"
    },
    {
     "data": {
      "image/png": "[encoded data removed]",
      "text/plain": [
       "<Figure size 432x288 with 1 Axes>"
      ]
     },
     "metadata": {
      "needs_background": "light"
     },
     "output_type": "display_data"
    },
    {
     "data": {
      "image/png": "[encoded data removed]",
      "text/plain": [
       "<Figure size 432x288 with 1 Axes>"
      ]
     },
     "metadata": {
      "needs_background": "light"
     },
     "output_type": "display_data"
    }
   ],
   "source": [
    "a = RLM_grad_desc_sto()\n",
    "a.fit(X_train, y_train, 0.001, 10000)\n",
    "\n",
    "\n",
    "y_predicted = a.predict(X_test)\n",
    "plt.plot(X_test[:,0], y_test, 'ro', label='Real')\n",
    "plt.plot(X_test[:,0], y_predicted, 'go', label=\"predicted\")\n",
    "plt.show()\n",
    "\n",
    "plt.plot(X_test[:,1], y_test, 'ro', label='Real')\n",
    "plt.plot(X_test[:,1], y_predicted, 'go', label=\"predicted\")\n",
    "plt.show()\n",
    "\n",
    "plt.plot(X_test[:,2], y_test, 'ro', label='Real')\n",
    "plt.plot(X_test[:,2], y_predicted, 'go', label=\"predicted\")\n",
    "plt.show()\n",
    "\n",
    "plt.plot(X_test[:,3], y_test, 'ro', label='Real')\n",
    "plt.plot(X_test[:,3], y_predicted, 'go', label=\"predicted\")\n",
    "plt.show()\n",
    "\n",
    "plt.plot(X_test[:,4], y_test, 'ro', label='Real')\n",
    "plt.plot(X_test[:,4], y_predicted, 'go', label=\"predicted\")\n",
    "plt.show()\n",
    "\n"
   ]
  },
  {
   "cell_type": "code",
   "execution_count": null,
   "metadata": {},
   "outputs": [],
   "source": [
    "# REGRESSAO LINEAR Quadrada\n",
    "class RLQ:\n",
    "\n",
    "    def __init__(self):\n",
    "        self.rl = RLM_analitico()\n",
    "\n",
    "        \n",
    "    def fit(self, X, y):       \n",
    "        temp = X\n",
    "        l = len(temp)\n",
    "        \n",
    "        X = np.ones((l, 2))\n",
    "        X[:,0] = temp\n",
    "        X[:,1] = np.dot(temp,temp)        \n",
    "        rl.fit(X, y)\n",
    "        \n",
    "    def predict(self, X):\n",
    "        temp = X\n",
    "        l = len(temp)\n",
    "        X = np.ones((l, 2))\n",
    "        X[:,0] = temp\n",
    "        X[:,1] = np.dot(temp,temp)     \n",
    "        return self.rl.predict(X)\n",
    "\n"
   ]
  },
  {
   "cell_type": "code",
   "execution_count": null,
   "metadata": {},
   "outputs": [],
   "source": [
    "rlq = RLQ()"
   ]
  }
 ],
 "metadata": {
  "kernelspec": {
   "display_name": "Python 3",
   "language": "python",
   "name": "python3"
  },
  "language_info": {
   "codemirror_mode": {
    "name": "ipython",
    "version": 3
   },
   "file_extension": ".py",
   "mimetype": "text/x-python",
   "name": "python",
   "nbconvert_exporter": "python",
   "pygments_lexer": "ipython3",
   "version": "3.7.6"
  }
 },
 "nbformat": 4,
 "nbformat_minor": 4
}
